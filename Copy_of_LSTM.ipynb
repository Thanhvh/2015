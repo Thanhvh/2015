{
  "nbformat": 4,
  "nbformat_minor": 0,
  "metadata": {
    "colab": {
      "name": "Copy of LSTM.ipynb",
      "version": "0.3.2",
      "provenance": [],
      "collapsed_sections": [],
      "toc_visible": true,
      "include_colab_link": true
    },
    "kernelspec": {
      "name": "python3",
      "display_name": "Python 3"
    },
    "accelerator": "TPU"
  },
  "cells": [
    {
      "cell_type": "markdown",
      "metadata": {
        "id": "view-in-github",
        "colab_type": "text"
      },
      "source": [
        "<a href=\"https://colab.research.google.com/github/Thanhvh/2015/blob/master/Copy_of_LSTM.ipynb\" target=\"_parent\"><img src=\"https://colab.research.google.com/assets/colab-badge.svg\" alt=\"Open In Colab\"/></a>"
      ]
    },
    {
      "metadata": {
        "id": "aRiPcgiR_AlH",
        "colab_type": "text"
      },
      "cell_type": "markdown",
      "source": [
        "# 1   Import packages"
      ]
    },
    {
      "metadata": {
        "id": "TmmkKyWb_LXG",
        "colab_type": "code",
        "colab": {
          "base_uri": "https://localhost:8080/",
          "height": 34
        },
        "outputId": "df91d6b6-2c26-402b-b593-ff4fcc2944a6"
      },
      "cell_type": "code",
      "source": [
        "import numpy as np\n",
        "import pandas as pd\n",
        "import matplotlib.pyplot as plt\n",
        "import keras"
      ],
      "execution_count": 1,
      "outputs": [
        {
          "output_type": "stream",
          "text": [
            "Using TensorFlow backend.\n"
          ],
          "name": "stderr"
        }
      ]
    },
    {
      "metadata": {
        "id": "_KyQjHlcPtET",
        "colab_type": "code",
        "colab": {}
      },
      "cell_type": "code",
      "source": [
        "from keras.models import Sequential\n",
        "from keras.layers import Dense\n",
        "from keras.layers import LSTM\n",
        "from keras.layers import Dropout"
      ],
      "execution_count": 0,
      "outputs": []
    },
    {
      "metadata": {
        "id": "0wiiOgDyO3AZ",
        "colab_type": "text"
      },
      "cell_type": "markdown",
      "source": [
        "# 2 Data preprocessing"
      ]
    },
    {
      "metadata": {
        "id": "qJlTLJfWAN2w",
        "colab_type": "text"
      },
      "cell_type": "markdown",
      "source": [
        "## Import data"
      ]
    },
    {
      "metadata": {
        "id": "r0RNLBxQAKYO",
        "colab_type": "code",
        "outputId": "246522fb-d3da-4cf2-bc25-4b28d5ad1d40",
        "colab": {
          "resources": {
            "http://localhost:8080/nbextensions/google.colab/files.js": {
              "data": "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",
              "ok": true,
              "headers": [
                [
                  "content-type",
                  "application/javascript"
                ]
              ],
              "status": 200,
              "status_text": ""
            }
          },
          "base_uri": "https://localhost:8080/",
          "height": 214
        }
      },
      "cell_type": "code",
      "source": [
        "from google.colab import files\n",
        "files.upload()"
      ],
      "execution_count": 0,
      "outputs": [
        {
          "output_type": "display_data",
          "data": {
            "text/html": [
              "\n",
              "     <input type=\"file\" id=\"files-cbe6a876-d617-4e71-9e58-8ea8efba0f92\" name=\"files[]\" multiple disabled />\n",
              "     <output id=\"result-cbe6a876-d617-4e71-9e58-8ea8efba0f92\">\n",
              "      Upload widget is only available when the cell has been executed in the\n",
              "      current browser session. Please rerun this cell to enable.\n",
              "      </output>\n",
              "      <script src=\"/nbextensions/google.colab/files.js\"></script> "
            ],
            "text/plain": [
              "<IPython.core.display.HTML object>"
            ]
          },
          "metadata": {
            "tags": []
          }
        },
        {
          "output_type": "stream",
          "text": [
            "Saving monthly_1_full.csv to monthly_1_full.csv\n",
            "Saving monthly_1_test.csv to monthly_1_test.csv\n",
            "Saving monthly_1_train.csv to monthly_1_train.csv\n"
          ],
          "name": "stdout"
        },
        {
          "output_type": "execute_result",
          "data": {
            "text/plain": [
              "{'monthly_1_full.csv': b'x\\r\\n8000\\r\\n8350\\r\\n8570\\r\\n7700\\r\\n7080\\r\\n6520\\r\\n6070\\r\\n6650\\r\\n6830\\r\\n5710\\r\\n5260\\r\\n5470\\r\\n7870\\r\\n7360\\r\\n8470\\r\\n7880\\r\\n6750\\r\\n6860\\r\\n6220\\r\\n6650\\r\\n5450\\r\\n5280\\r\\n4970\\r\\n5550\\r\\n7750\\r\\n7760\\r\\n7190\\r\\n7440\\r\\n6590\\r\\n6210\\r\\n6010\\r\\n6390\\r\\n5780\\r\\n5700\\r\\n4680\\r\\n4970\\r\\n6850\\r\\n6740\\r\\n7490\\r\\n6250\\r\\n6900\\r\\n5870\\r\\n5610\\r\\n6310\\r\\n6110\\r\\n6090\\r\\n5810\\r\\n6060\\r\\n6950\\r\\n7820\\r\\n8270\\r\\n7840\\r\\n7850\\r\\n6710\\r\\n6220\\r\\n7430\\r\\n6560\\r\\n7080\\r\\n6680\\r\\n6900\\r\\n8680\\r\\n8450\\r\\n8670\\r\\n8470\\r\\n7910\\r\\n8140\\r\\n7310\\r\\n7860\\r\\n7730\\r\\n7330\\r\\n7430\\r\\n7150\\r\\n8720\\r\\n8340\\r\\n8840\\r\\n8780\\r\\n8250\\r\\n8180\\r\\n7570\\r\\n9280\\r\\n9220\\r\\n9140\\r\\n8950\\r\\n8540\\r\\n9360\\r\\n9750\\r\\n9270\\r\\n8690\\r\\n8200\\r\\n7610\\r\\n7160\\r\\n8280\\r\\n7370\\r\\n7130\\r\\n6840\\r\\n7260\\r\\n7430\\r\\n7950\\r\\n7790\\r\\n8090\\r\\n7480\\r\\n6700\\r\\n6650\\r\\n6960\\r\\n6410\\r\\n6310\\r\\n5930\\r\\n5980\\r\\n6730\\r\\n7410\\r\\n7200\\r\\n6960\\r\\n6780\\r\\n5720\\r\\n6040\\r\\n5990\\r\\n6210\\r\\n6460\\r\\n5490\\r\\n5790\\r\\n6350\\r\\n6230\\r\\n5940\\r\\n6400\\r\\n6610\\r\\n5840\\r\\n5350\\r\\n6160\\r\\n6260\\r\\n5760\\r\\n5450\\r\\n5350\\r\\n6230\\r\\n6520\\r\\n7230\\r\\n6500\\r\\n6230\\r\\n5960\\r\\n4970\\r\\n5350\\r\\n4840\\r\\n4710\\r\\n4670\\r\\n4670\\r\\n5190\\r\\n5800\\r\\n6120\\r\\n5140\\r\\n4670\\r\\n4190\\r\\n4430\\r\\n4840\\r\\n4660\\r\\n4350\\r\\n4390\\r\\n4790\\r\\n5510\\r\\n5760\\r\\n5780\\r\\n5470\\r\\n5020\\r\\n4770\\r\\n4330\\r\\n4330\\r\\n4270\\r\\n3820\\r\\n3550\\r\\n4390\\r\\n5760\\r\\n6030\\r\\n6140\\r\\n5830\\r\\n5420\\r\\n5160\\r\\n4620\\r\\n5420\\r\\n5600\\r\\n5920\\r\\n5190\\r\\n5640\\r\\n5700\\r\\n6110\\r\\n7290\\r\\n7260\\r\\n7040\\r\\n6100\\r\\n6110\\r\\n7090\\r\\n7070\\r\\n6150\\r\\n5630\\r\\n6210\\r\\n7250\\r\\n7480\\r\\n7580\\r\\n7610\\r\\n5970\\r\\n7100\\r\\n6100\\r\\n7040\\r\\n7060\\r\\n6270\\r\\n5670\\r\\n5600\\r\\n7190\\r\\n7590\\r\\n7310\\r\\n5950\\r\\n6220\\r\\n5680\\r\\n5450\\r\\n7160\\r\\n6110\\r\\n6940\\r\\n5660\\r\\n5770\\r\\n8050\\r\\n7450\\r\\n8190\\r\\n6590\\r\\n5920\\r\\n4620\\r\\n5320\\r\\n6060\\r\\n5300\\r\\n5020\\r\\n5010\\r\\n4640\\r\\n6980\\r\\n6090\\r\\n7000\\r\\n5370\\r\\n5230\\r\\n5140\\r\\n4570\\r\\n5360\\r\\n5300\\r\\n4640\\r\\n4740\\r\\n5250\\r\\n6350\\r\\n6860\\r\\n6360\\r\\n5660\\r\\n5270\\r\\n4910\\r\\n5160\\r\\n5620\\r\\n5180\\r\\n4680\\r\\n3860\\r\\n3890\\r\\n6340\\r\\n6210\\r\\n6100\\r\\n4980\\r\\n4260\\r\\n3910\\r\\n3550\\r\\n4680\\r\\n4120\\r\\n4740\\r\\n3100\\r\\n3810\\r\\n4710\\r\\n5700\\r\\n5040\\r\\n4490\\r\\n3930\\r\\n3500\\r\\n3320\\r\\n4400\\r\\n4190\\r\\n3670\\r\\n3780\\r\\n4330\\r\\n5430\\r\\n5610\\r\\n5020\\r\\n4090\\r\\n3680\\r\\n3290\\r\\n3360\\r\\n4300\\r\\n4090\\r\\n3110\\r\\n2690\\r\\n3700\\r\\n6030\\r\\n5450\\r\\n5830\\r\\n4080\\r\\n3910\\r\\n3840\\r\\n3650\\r\\n4630\\r\\n2980\\r\\n3550\\r\\n3690\\r\\n3610\\r\\n5250\\r\\n5480\\r\\n5400\\r\\n4380\\r\\n4290\\r\\n4200\\r\\n4190\\r\\n4860\\r\\n5080\\r\\n4770\\r\\n4470\\r\\n4840\\r\\n5610\\r\\n6450\\r\\n5960\\r\\n5300\\r\\n4990\\r\\n4680\\r\\n4460\\r\\n5710\\r\\n4830\\r\\n5260\\r\\n4400\\r\\n4780\\r\\n7040\\r\\n7490\\r\\n7450\\r\\n5560\\r\\n5000\\r\\n5420\\r\\n5160\\r\\n5110\\r\\n4900\\r\\n5300\\r\\n4330\\r\\n4680\\r\\n5800\\r\\n7410\\r\\n6760\\r\\n5680\\r\\n5610\\r\\n5140\\r\\n4990\\r\\n5550\\r\\n4720\\r\\n4680\\r\\n4780\\r\\n4530\\r\\n6810\\r\\n6830\\r\\n6640\\r\\n5680\\r\\n5020\\r\\n4940\\r\\n3930\\r\\n4570\\r\\n4720\\r\\n4610\\r\\n4140\\r\\n4290\\r\\n5780\\r\\n6590\\r\\n5950\\r\\n3960\\r\\n4240\\r\\n4000\\r\\n3950\\r\\n4760\\r\\n4050\\r\\n4190\\r\\n4080\\r\\n4280\\r\\n5720\\r\\n7040\\r\\n6950\\r\\n5250\\r\\n4920\\r\\n4820\\r\\n4510\\r\\n4710\\r\\n3720\\r\\n4250\\r\\n3730\\r\\n4610\\r\\n6540\\r\\n7700\\r\\n7210\\r\\n5730\\r\\n5520\\r\\n5270\\r\\n5110\\r\\n6520\\r\\n5630\\r\\n5980\\r\\n5750\\r\\n7020\\r\\n9910\\r\\n11290\\r\\n11180\\r\\n9280\\r\\n7850\\r\\n7480\\r\\n7970\\r\\n9480\\r\\n8800\\r\\n8810\\r\\n7690\\r\\n7710\\r\\n9660\\r\\n11870\\r\\n12920\\r\\n10890\\r\\n9500\\r\\n9490\\r\\n9500\\r\\n10880\\r\\n9270\\r\\n8880\\r\\n7780\\r\\n8360\\r\\n12320\\r\\n13490\\r\\n12710\\r\\n10130\\r\\n9240\\r\\n9640\\r\\n8920\\r\\n8900\\r\\n8480\\r\\n7870\\r\\n7860\\r\\n8990\\r\\n10790\\r\\n11820\\r\\n10590\\r\\n9430\\r\\n9070\\r\\n8250\\r\\n8740\\r\\n9120\\r\\n8280\\r\\n7860\\r\\n7150\\r\\n8110\\r\\n10860\\r\\n10730\\r\\n9610\\r\\n8270\\r\\n9200\\r\\n6660\\r\\n6270\\r\\n7250\\r\\n6830\\r\\n6810\\r\\n5810\\r\\n6220\\r\\n7450\\r\\n9370\\r\\n7980\\r\\n6050\\r\\n5640\\r\\n6220\\r\\n5740\\r\\n6040\\r\\n5130\\r\\n5090\\r\\n5210\\r\\n4910\\r\\n6890\\r\\n8720\\r\\n7790\\r\\n4770\\r\\n5060\\r\\n4720\\r\\n4450\\r\\n5120\\r\\n5960\\r\\n6560\\r\\n4900\\r\\n4520\\r\\n7370\\r\\n9050\\r\\n7780\\r\\n5380\\r\\n4700\\r\\n4490\\r\\n4010\\r\\n',\n",
              " 'monthly_1_test.csv': b'x\\r\\n8720\\r\\n7790\\r\\n4770\\r\\n5060\\r\\n4720\\r\\n4450\\r\\n5120\\r\\n5960\\r\\n6560\\r\\n4900\\r\\n4520\\r\\n7370\\r\\n9050\\r\\n7780\\r\\n5380\\r\\n4700\\r\\n4490\\r\\n4010\\r\\n',\n",
              " 'monthly_1_train.csv': b'x\\r\\n8000\\r\\n8350\\r\\n8570\\r\\n7700\\r\\n7080\\r\\n6520\\r\\n6070\\r\\n6650\\r\\n6830\\r\\n5710\\r\\n5260\\r\\n5470\\r\\n7870\\r\\n7360\\r\\n8470\\r\\n7880\\r\\n6750\\r\\n6860\\r\\n6220\\r\\n6650\\r\\n5450\\r\\n5280\\r\\n4970\\r\\n5550\\r\\n7750\\r\\n7760\\r\\n7190\\r\\n7440\\r\\n6590\\r\\n6210\\r\\n6010\\r\\n6390\\r\\n5780\\r\\n5700\\r\\n4680\\r\\n4970\\r\\n6850\\r\\n6740\\r\\n7490\\r\\n6250\\r\\n6900\\r\\n5870\\r\\n5610\\r\\n6310\\r\\n6110\\r\\n6090\\r\\n5810\\r\\n6060\\r\\n6950\\r\\n7820\\r\\n8270\\r\\n7840\\r\\n7850\\r\\n6710\\r\\n6220\\r\\n7430\\r\\n6560\\r\\n7080\\r\\n6680\\r\\n6900\\r\\n8680\\r\\n8450\\r\\n8670\\r\\n8470\\r\\n7910\\r\\n8140\\r\\n7310\\r\\n7860\\r\\n7730\\r\\n7330\\r\\n7430\\r\\n7150\\r\\n8720\\r\\n8340\\r\\n8840\\r\\n8780\\r\\n8250\\r\\n8180\\r\\n7570\\r\\n9280\\r\\n9220\\r\\n9140\\r\\n8950\\r\\n8540\\r\\n9360\\r\\n9750\\r\\n9270\\r\\n8690\\r\\n8200\\r\\n7610\\r\\n7160\\r\\n8280\\r\\n7370\\r\\n7130\\r\\n6840\\r\\n7260\\r\\n7430\\r\\n7950\\r\\n7790\\r\\n8090\\r\\n7480\\r\\n6700\\r\\n6650\\r\\n6960\\r\\n6410\\r\\n6310\\r\\n5930\\r\\n5980\\r\\n6730\\r\\n7410\\r\\n7200\\r\\n6960\\r\\n6780\\r\\n5720\\r\\n6040\\r\\n5990\\r\\n6210\\r\\n6460\\r\\n5490\\r\\n5790\\r\\n6350\\r\\n6230\\r\\n5940\\r\\n6400\\r\\n6610\\r\\n5840\\r\\n5350\\r\\n6160\\r\\n6260\\r\\n5760\\r\\n5450\\r\\n5350\\r\\n6230\\r\\n6520\\r\\n7230\\r\\n6500\\r\\n6230\\r\\n5960\\r\\n4970\\r\\n5350\\r\\n4840\\r\\n4710\\r\\n4670\\r\\n4670\\r\\n5190\\r\\n5800\\r\\n6120\\r\\n5140\\r\\n4670\\r\\n4190\\r\\n4430\\r\\n4840\\r\\n4660\\r\\n4350\\r\\n4390\\r\\n4790\\r\\n5510\\r\\n5760\\r\\n5780\\r\\n5470\\r\\n5020\\r\\n4770\\r\\n4330\\r\\n4330\\r\\n4270\\r\\n3820\\r\\n3550\\r\\n4390\\r\\n5760\\r\\n6030\\r\\n6140\\r\\n5830\\r\\n5420\\r\\n5160\\r\\n4620\\r\\n5420\\r\\n5600\\r\\n5920\\r\\n5190\\r\\n5640\\r\\n5700\\r\\n6110\\r\\n7290\\r\\n7260\\r\\n7040\\r\\n6100\\r\\n6110\\r\\n7090\\r\\n7070\\r\\n6150\\r\\n5630\\r\\n6210\\r\\n7250\\r\\n7480\\r\\n7580\\r\\n7610\\r\\n5970\\r\\n7100\\r\\n6100\\r\\n7040\\r\\n7060\\r\\n6270\\r\\n5670\\r\\n5600\\r\\n7190\\r\\n7590\\r\\n7310\\r\\n5950\\r\\n6220\\r\\n5680\\r\\n5450\\r\\n7160\\r\\n6110\\r\\n6940\\r\\n5660\\r\\n5770\\r\\n8050\\r\\n7450\\r\\n8190\\r\\n6590\\r\\n5920\\r\\n4620\\r\\n5320\\r\\n6060\\r\\n5300\\r\\n5020\\r\\n5010\\r\\n4640\\r\\n6980\\r\\n6090\\r\\n7000\\r\\n5370\\r\\n5230\\r\\n5140\\r\\n4570\\r\\n5360\\r\\n5300\\r\\n4640\\r\\n4740\\r\\n5250\\r\\n6350\\r\\n6860\\r\\n6360\\r\\n5660\\r\\n5270\\r\\n4910\\r\\n5160\\r\\n5620\\r\\n5180\\r\\n4680\\r\\n3860\\r\\n3890\\r\\n6340\\r\\n6210\\r\\n6100\\r\\n4980\\r\\n4260\\r\\n3910\\r\\n3550\\r\\n4680\\r\\n4120\\r\\n4740\\r\\n3100\\r\\n3810\\r\\n4710\\r\\n5700\\r\\n5040\\r\\n4490\\r\\n3930\\r\\n3500\\r\\n3320\\r\\n4400\\r\\n4190\\r\\n3670\\r\\n3780\\r\\n4330\\r\\n5430\\r\\n5610\\r\\n5020\\r\\n4090\\r\\n3680\\r\\n3290\\r\\n3360\\r\\n4300\\r\\n4090\\r\\n3110\\r\\n2690\\r\\n3700\\r\\n6030\\r\\n5450\\r\\n5830\\r\\n4080\\r\\n3910\\r\\n3840\\r\\n3650\\r\\n4630\\r\\n2980\\r\\n3550\\r\\n3690\\r\\n3610\\r\\n5250\\r\\n5480\\r\\n5400\\r\\n4380\\r\\n4290\\r\\n4200\\r\\n4190\\r\\n4860\\r\\n5080\\r\\n4770\\r\\n4470\\r\\n4840\\r\\n5610\\r\\n6450\\r\\n5960\\r\\n5300\\r\\n4990\\r\\n4680\\r\\n4460\\r\\n5710\\r\\n4830\\r\\n5260\\r\\n4400\\r\\n4780\\r\\n7040\\r\\n7490\\r\\n7450\\r\\n5560\\r\\n5000\\r\\n5420\\r\\n5160\\r\\n5110\\r\\n4900\\r\\n5300\\r\\n4330\\r\\n4680\\r\\n5800\\r\\n7410\\r\\n6760\\r\\n5680\\r\\n5610\\r\\n5140\\r\\n4990\\r\\n5550\\r\\n4720\\r\\n4680\\r\\n4780\\r\\n4530\\r\\n6810\\r\\n6830\\r\\n6640\\r\\n5680\\r\\n5020\\r\\n4940\\r\\n3930\\r\\n4570\\r\\n4720\\r\\n4610\\r\\n4140\\r\\n4290\\r\\n5780\\r\\n6590\\r\\n5950\\r\\n3960\\r\\n4240\\r\\n4000\\r\\n3950\\r\\n4760\\r\\n4050\\r\\n4190\\r\\n4080\\r\\n4280\\r\\n5720\\r\\n7040\\r\\n6950\\r\\n5250\\r\\n4920\\r\\n4820\\r\\n4510\\r\\n4710\\r\\n3720\\r\\n4250\\r\\n3730\\r\\n4610\\r\\n6540\\r\\n7700\\r\\n7210\\r\\n5730\\r\\n5520\\r\\n5270\\r\\n5110\\r\\n6520\\r\\n5630\\r\\n5980\\r\\n5750\\r\\n7020\\r\\n9910\\r\\n11290\\r\\n11180\\r\\n9280\\r\\n7850\\r\\n7480\\r\\n7970\\r\\n9480\\r\\n8800\\r\\n8810\\r\\n7690\\r\\n7710\\r\\n9660\\r\\n11870\\r\\n12920\\r\\n10890\\r\\n9500\\r\\n9490\\r\\n9500\\r\\n10880\\r\\n9270\\r\\n8880\\r\\n7780\\r\\n8360\\r\\n12320\\r\\n13490\\r\\n12710\\r\\n10130\\r\\n9240\\r\\n9640\\r\\n8920\\r\\n8900\\r\\n8480\\r\\n7870\\r\\n7860\\r\\n8990\\r\\n10790\\r\\n11820\\r\\n10590\\r\\n9430\\r\\n9070\\r\\n8250\\r\\n8740\\r\\n9120\\r\\n8280\\r\\n7860\\r\\n7150\\r\\n8110\\r\\n10860\\r\\n10730\\r\\n9610\\r\\n8270\\r\\n9200\\r\\n6660\\r\\n6270\\r\\n7250\\r\\n6830\\r\\n6810\\r\\n5810\\r\\n6220\\r\\n7450\\r\\n9370\\r\\n7980\\r\\n6050\\r\\n5640\\r\\n6220\\r\\n5740\\r\\n6040\\r\\n5130\\r\\n5090\\r\\n5210\\r\\n4910\\r\\n6890\\r\\n'}"
            ]
          },
          "metadata": {
            "tags": []
          },
          "execution_count": 5
        }
      ]
    },
    {
      "metadata": {
        "id": "pgK4pdqyHFhe",
        "colab_type": "code",
        "colab": {}
      },
      "cell_type": "code",
      "source": [
        "dataset = pd.read_csv(\"monthly_1_full.csv\").values"
      ],
      "execution_count": 0,
      "outputs": []
    },
    {
      "metadata": {
        "id": "kAylicmkAnCR",
        "colab_type": "code",
        "colab": {}
      },
      "cell_type": "code",
      "source": [
        "train_df = pd.read_csv(\"monthly_1_train.csv\")\n",
        "train = train_df.values"
      ],
      "execution_count": 0,
      "outputs": []
    },
    {
      "metadata": {
        "id": "D1oJjQkNAnFd",
        "colab_type": "code",
        "colab": {}
      },
      "cell_type": "code",
      "source": [
        "test_df = pd.read_csv(\"monthly_1_test.csv\")\n",
        "test = test_df.values"
      ],
      "execution_count": 0,
      "outputs": []
    },
    {
      "metadata": {
        "id": "3FzaysAmEcUL",
        "colab_type": "text"
      },
      "cell_type": "markdown",
      "source": [
        "## Feature scaling"
      ]
    },
    {
      "metadata": {
        "id": "iRF6LFV7EMnj",
        "colab_type": "code",
        "colab": {}
      },
      "cell_type": "code",
      "source": [
        "from sklearn.preprocessing import MinMaxScaler"
      ],
      "execution_count": 0,
      "outputs": []
    },
    {
      "metadata": {
        "id": "OIRVDaR5EMtu",
        "colab_type": "code",
        "colab": {}
      },
      "cell_type": "code",
      "source": [
        "scaler = MinMaxScaler(feature_range=(0,1))"
      ],
      "execution_count": 0,
      "outputs": []
    },
    {
      "metadata": {
        "id": "btZqAt6sEMze",
        "colab_type": "code",
        "outputId": "73132af1-e28f-4168-87d0-261a825f0aba",
        "colab": {
          "base_uri": "https://localhost:8080/",
          "height": 105
        }
      },
      "cell_type": "code",
      "source": [
        "train_sc = scaler.fit_transform(train)\n",
        "test_sc = scaler.fit_transform(test)"
      ],
      "execution_count": 9,
      "outputs": [
        {
          "output_type": "stream",
          "text": [
            "/usr/local/lib/python3.6/dist-packages/sklearn/utils/validation.py:595: DataConversionWarning: Data with input dtype int64 was converted to float64 by MinMaxScaler.\n",
            "  warnings.warn(msg, DataConversionWarning)\n",
            "/usr/local/lib/python3.6/dist-packages/sklearn/utils/validation.py:595: DataConversionWarning: Data with input dtype int64 was converted to float64 by MinMaxScaler.\n",
            "  warnings.warn(msg, DataConversionWarning)\n"
          ],
          "name": "stderr"
        }
      ]
    },
    {
      "metadata": {
        "id": "mynQ1-hcHWEn",
        "colab_type": "text"
      },
      "cell_type": "markdown",
      "source": [
        "## Creat data structure with 60 timestep and one output"
      ]
    },
    {
      "metadata": {
        "id": "dN7YNchBFAfB",
        "colab_type": "code",
        "colab": {}
      },
      "cell_type": "code",
      "source": [
        "X_train = []"
      ],
      "execution_count": 0,
      "outputs": []
    },
    {
      "metadata": {
        "id": "tHqHiYzUFAnO",
        "colab_type": "code",
        "colab": {}
      },
      "cell_type": "code",
      "source": [
        "Y_train = []"
      ],
      "execution_count": 0,
      "outputs": []
    },
    {
      "metadata": {
        "id": "Wsj9tnvOFAq2",
        "colab_type": "code",
        "colab": {}
      },
      "cell_type": "code",
      "source": [
        "for i in range(60, 469):\n",
        "  X_train.append(train_sc[i-60:i, 0])\n",
        "  Y_train.append(train_sc[i, 0])"
      ],
      "execution_count": 0,
      "outputs": []
    },
    {
      "metadata": {
        "id": "AeA1xfd5FAuW",
        "colab_type": "code",
        "colab": {}
      },
      "cell_type": "code",
      "source": [
        "X_train, Y_train = np.array(X_train), np.array(Y_train)"
      ],
      "execution_count": 0,
      "outputs": []
    },
    {
      "metadata": {
        "id": "_Nbuun_kLDDa",
        "colab_type": "code",
        "outputId": "fa19005c-e350-4248-d483-802478ba01d5",
        "colab": {
          "base_uri": "https://localhost:8080/",
          "height": 34
        }
      },
      "cell_type": "code",
      "source": [
        "X_train.shape"
      ],
      "execution_count": 14,
      "outputs": [
        {
          "output_type": "execute_result",
          "data": {
            "text/plain": [
              "(409, 60)"
            ]
          },
          "metadata": {
            "tags": []
          },
          "execution_count": 14
        }
      ]
    },
    {
      "metadata": {
        "id": "nSsGiZY2LDG5",
        "colab_type": "code",
        "outputId": "f4c5d124-f36a-4929-e8ef-dfb445d4666e",
        "colab": {
          "base_uri": "https://localhost:8080/",
          "height": 34
        }
      },
      "cell_type": "code",
      "source": [
        "Y_train.shape"
      ],
      "execution_count": 15,
      "outputs": [
        {
          "output_type": "execute_result",
          "data": {
            "text/plain": [
              "(409,)"
            ]
          },
          "metadata": {
            "tags": []
          },
          "execution_count": 15
        }
      ]
    },
    {
      "metadata": {
        "id": "c6EP7JXdL9nt",
        "colab_type": "text"
      },
      "cell_type": "markdown",
      "source": [
        "## Reshape data: 3-Dimensions"
      ]
    },
    {
      "metadata": {
        "id": "eI54Bg0PMEsM",
        "colab_type": "code",
        "colab": {}
      },
      "cell_type": "code",
      "source": [
        "X_train = np.reshape(X_train, (X_train.shape[0], X_train.shape[1], 1))"
      ],
      "execution_count": 0,
      "outputs": []
    },
    {
      "metadata": {
        "id": "X6CwUPQTMPmd",
        "colab_type": "code",
        "outputId": "91959e6e-6866-45d2-a33c-3b672d815904",
        "colab": {
          "base_uri": "https://localhost:8080/",
          "height": 34
        }
      },
      "cell_type": "code",
      "source": [
        "X_train.shape"
      ],
      "execution_count": 17,
      "outputs": [
        {
          "output_type": "execute_result",
          "data": {
            "text/plain": [
              "(409, 60, 1)"
            ]
          },
          "metadata": {
            "tags": []
          },
          "execution_count": 17
        }
      ]
    },
    {
      "metadata": {
        "id": "bGi6_C4JPWha",
        "colab_type": "text"
      },
      "cell_type": "markdown",
      "source": [
        "# 3 Building RNN"
      ]
    },
    {
      "metadata": {
        "id": "xL1i9vt4RFxn",
        "colab_type": "text"
      },
      "cell_type": "markdown",
      "source": [
        "## Initialzing RNN"
      ]
    },
    {
      "metadata": {
        "id": "ewO_j525MPqs",
        "colab_type": "code",
        "colab": {}
      },
      "cell_type": "code",
      "source": [
        "regressor = Sequential()"
      ],
      "execution_count": 0,
      "outputs": []
    },
    {
      "metadata": {
        "id": "4fmM1x5vRPkP",
        "colab_type": "text"
      },
      "cell_type": "markdown",
      "source": [
        "## Add first LSTM layer and Dropout regularization"
      ]
    },
    {
      "metadata": {
        "id": "j5j3ujpcQ9zE",
        "colab_type": "code",
        "outputId": "06b980bd-4162-4ac8-9513-93c5997b3471",
        "colab": {
          "base_uri": "https://localhost:8080/",
          "height": 88
        }
      },
      "cell_type": "code",
      "source": [
        "regressor.add(LSTM(units=50, return_sequences=True, input_shape = (X_train.shape[1], 1)))"
      ],
      "execution_count": 19,
      "outputs": [
        {
          "output_type": "stream",
          "text": [
            "WARNING:tensorflow:From /usr/local/lib/python3.6/dist-packages/tensorflow/python/framework/op_def_library.py:263: colocate_with (from tensorflow.python.framework.ops) is deprecated and will be removed in a future version.\n",
            "Instructions for updating:\n",
            "Colocations handled automatically by placer.\n"
          ],
          "name": "stdout"
        }
      ]
    },
    {
      "metadata": {
        "id": "3Y9-hUv5Q92U",
        "colab_type": "code",
        "outputId": "ab7c78f7-f7ad-4ecf-91e6-9a43619d94e9",
        "colab": {
          "base_uri": "https://localhost:8080/",
          "height": 88
        }
      },
      "cell_type": "code",
      "source": [
        "regressor.add(Dropout(0.2))"
      ],
      "execution_count": 20,
      "outputs": [
        {
          "output_type": "stream",
          "text": [
            "WARNING:tensorflow:From /usr/local/lib/python3.6/dist-packages/keras/backend/tensorflow_backend.py:3445: calling dropout (from tensorflow.python.ops.nn_ops) with keep_prob is deprecated and will be removed in a future version.\n",
            "Instructions for updating:\n",
            "Please use `rate` instead of `keep_prob`. Rate should be set to `rate = 1 - keep_prob`.\n"
          ],
          "name": "stdout"
        }
      ]
    },
    {
      "metadata": {
        "id": "LFSpoTUgUxk6",
        "colab_type": "text"
      },
      "cell_type": "markdown",
      "source": [
        "## Add second LSTM layer and Dropout regularization"
      ]
    },
    {
      "metadata": {
        "id": "B0mbzCP2Q99E",
        "colab_type": "code",
        "colab": {}
      },
      "cell_type": "code",
      "source": [
        "regressor.add(LSTM(units=50, return_sequences=True))\n",
        "regressor.add(Dropout(0.2))"
      ],
      "execution_count": 0,
      "outputs": []
    },
    {
      "metadata": {
        "id": "sg_5PVUcV8ct",
        "colab_type": "text"
      },
      "cell_type": "markdown",
      "source": [
        "## Add third LSTM layer and Dropout regularization"
      ]
    },
    {
      "metadata": {
        "id": "h6xtoPxZQ-Ad",
        "colab_type": "code",
        "colab": {}
      },
      "cell_type": "code",
      "source": [
        "regressor.add(LSTM(units=50, return_sequences=True))\n",
        "regressor.add(Dropout(0.2))"
      ],
      "execution_count": 0,
      "outputs": []
    },
    {
      "metadata": {
        "id": "8NlUufWqWN-n",
        "colab_type": "text"
      },
      "cell_type": "markdown",
      "source": [
        "## Add fourth LSTM layer and Dropout regularization"
      ]
    },
    {
      "metadata": {
        "id": "0ps-wFoZQ959",
        "colab_type": "code",
        "colab": {}
      },
      "cell_type": "code",
      "source": [
        "regressor.add(LSTM(units=50))\n",
        "regressor.add(Dropout(0.2))"
      ],
      "execution_count": 0,
      "outputs": []
    },
    {
      "metadata": {
        "id": "_1lnI7fWW5QI",
        "colab_type": "text"
      },
      "cell_type": "markdown",
      "source": [
        "## Add ouput layer"
      ]
    },
    {
      "metadata": {
        "id": "SG5bCEIJW93X",
        "colab_type": "code",
        "colab": {}
      },
      "cell_type": "code",
      "source": [
        "regressor.add(Dense(units=1))"
      ],
      "execution_count": 0,
      "outputs": []
    },
    {
      "metadata": {
        "id": "6B6nOyRaXxvj",
        "colab_type": "text"
      },
      "cell_type": "markdown",
      "source": [
        "## Compiling LSTM"
      ]
    },
    {
      "metadata": {
        "id": "vgQ8CP1eXpfB",
        "colab_type": "code",
        "colab": {}
      },
      "cell_type": "code",
      "source": [
        "regressor.compile(optimizer='adam', loss = 'mean_squared_error')"
      ],
      "execution_count": 0,
      "outputs": []
    },
    {
      "metadata": {
        "id": "BuNnOwfGfoo8",
        "colab_type": "text"
      },
      "cell_type": "markdown",
      "source": [
        "## Fitting LSTM to the training set"
      ]
    },
    {
      "metadata": {
        "id": "2QEQe1FPfmAo",
        "colab_type": "code",
        "outputId": "e8e8f96e-db20-4dd0-a06b-de4e2b665db9",
        "colab": {
          "base_uri": "https://localhost:8080/",
          "height": 3532
        }
      },
      "cell_type": "code",
      "source": [
        "regressor.fit(X_train, Y_train, epochs=100, batch_size=12)"
      ],
      "execution_count": 26,
      "outputs": [
        {
          "output_type": "stream",
          "text": [
            "WARNING:tensorflow:From /usr/local/lib/python3.6/dist-packages/tensorflow/python/ops/math_ops.py:3066: to_int32 (from tensorflow.python.ops.math_ops) is deprecated and will be removed in a future version.\n",
            "Instructions for updating:\n",
            "Use tf.cast instead.\n",
            "Epoch 1/100\n",
            "409/409 [==============================] - 10s 24ms/step - loss: 0.0311\n",
            "Epoch 2/100\n",
            "409/409 [==============================] - 5s 12ms/step - loss: 0.0169\n",
            "Epoch 3/100\n",
            "409/409 [==============================] - 5s 12ms/step - loss: 0.0142\n",
            "Epoch 4/100\n",
            "409/409 [==============================] - 5s 12ms/step - loss: 0.0145\n",
            "Epoch 5/100\n",
            "409/409 [==============================] - 5s 11ms/step - loss: 0.0132\n",
            "Epoch 6/100\n",
            "409/409 [==============================] - 5s 12ms/step - loss: 0.0135\n",
            "Epoch 7/100\n",
            "409/409 [==============================] - 5s 12ms/step - loss: 0.0127\n",
            "Epoch 8/100\n",
            "409/409 [==============================] - 5s 12ms/step - loss: 0.0110\n",
            "Epoch 9/100\n",
            "409/409 [==============================] - 5s 11ms/step - loss: 0.0121\n",
            "Epoch 10/100\n",
            "409/409 [==============================] - 5s 12ms/step - loss: 0.0120\n",
            "Epoch 11/100\n",
            "409/409 [==============================] - 5s 11ms/step - loss: 0.0125\n",
            "Epoch 12/100\n",
            "409/409 [==============================] - 5s 12ms/step - loss: 0.0121\n",
            "Epoch 13/100\n",
            "409/409 [==============================] - 5s 12ms/step - loss: 0.0118\n",
            "Epoch 14/100\n",
            "409/409 [==============================] - 5s 11ms/step - loss: 0.0115\n",
            "Epoch 15/100\n",
            "409/409 [==============================] - 5s 11ms/step - loss: 0.0120\n",
            "Epoch 16/100\n",
            "409/409 [==============================] - 5s 12ms/step - loss: 0.0112\n",
            "Epoch 17/100\n",
            "409/409 [==============================] - 5s 12ms/step - loss: 0.0129\n",
            "Epoch 18/100\n",
            "409/409 [==============================] - 5s 12ms/step - loss: 0.0112\n",
            "Epoch 19/100\n",
            "409/409 [==============================] - 5s 12ms/step - loss: 0.0124\n",
            "Epoch 20/100\n",
            "409/409 [==============================] - 5s 12ms/step - loss: 0.0106\n",
            "Epoch 21/100\n",
            "409/409 [==============================] - 5s 12ms/step - loss: 0.0097\n",
            "Epoch 22/100\n",
            "409/409 [==============================] - 5s 12ms/step - loss: 0.0113\n",
            "Epoch 23/100\n",
            "409/409 [==============================] - 5s 12ms/step - loss: 0.0095\n",
            "Epoch 24/100\n",
            "409/409 [==============================] - 5s 12ms/step - loss: 0.0093\n",
            "Epoch 25/100\n",
            "409/409 [==============================] - 5s 12ms/step - loss: 0.0092\n",
            "Epoch 26/100\n",
            "409/409 [==============================] - 5s 12ms/step - loss: 0.0081\n",
            "Epoch 27/100\n",
            "409/409 [==============================] - 5s 12ms/step - loss: 0.0088\n",
            "Epoch 28/100\n",
            "409/409 [==============================] - 5s 12ms/step - loss: 0.0087\n",
            "Epoch 29/100\n",
            "409/409 [==============================] - 5s 12ms/step - loss: 0.0087\n",
            "Epoch 30/100\n",
            "409/409 [==============================] - 5s 12ms/step - loss: 0.0088\n",
            "Epoch 31/100\n",
            "409/409 [==============================] - 5s 12ms/step - loss: 0.0093\n",
            "Epoch 32/100\n",
            "409/409 [==============================] - 5s 12ms/step - loss: 0.0091\n",
            "Epoch 33/100\n",
            "409/409 [==============================] - 5s 12ms/step - loss: 0.0094\n",
            "Epoch 34/100\n",
            "409/409 [==============================] - 5s 13ms/step - loss: 0.0074\n",
            "Epoch 35/100\n",
            "409/409 [==============================] - 5s 12ms/step - loss: 0.0089\n",
            "Epoch 36/100\n",
            "409/409 [==============================] - 5s 11ms/step - loss: 0.0080\n",
            "Epoch 37/100\n",
            "409/409 [==============================] - 5s 12ms/step - loss: 0.0078\n",
            "Epoch 38/100\n",
            "409/409 [==============================] - 5s 12ms/step - loss: 0.0079\n",
            "Epoch 39/100\n",
            "409/409 [==============================] - 5s 12ms/step - loss: 0.0078\n",
            "Epoch 40/100\n",
            "409/409 [==============================] - 5s 12ms/step - loss: 0.0078\n",
            "Epoch 41/100\n",
            "409/409 [==============================] - 5s 12ms/step - loss: 0.0080\n",
            "Epoch 42/100\n",
            "409/409 [==============================] - 5s 12ms/step - loss: 0.0068\n",
            "Epoch 43/100\n",
            "409/409 [==============================] - 5s 12ms/step - loss: 0.0085\n",
            "Epoch 44/100\n",
            "409/409 [==============================] - 5s 12ms/step - loss: 0.0082\n",
            "Epoch 45/100\n",
            "409/409 [==============================] - 5s 12ms/step - loss: 0.0077\n",
            "Epoch 46/100\n",
            "409/409 [==============================] - 5s 12ms/step - loss: 0.0091\n",
            "Epoch 47/100\n",
            "409/409 [==============================] - 5s 12ms/step - loss: 0.0072\n",
            "Epoch 48/100\n",
            "409/409 [==============================] - 5s 12ms/step - loss: 0.0078\n",
            "Epoch 49/100\n",
            "409/409 [==============================] - 5s 12ms/step - loss: 0.0076\n",
            "Epoch 50/100\n",
            "409/409 [==============================] - 5s 12ms/step - loss: 0.0078\n",
            "Epoch 51/100\n",
            "409/409 [==============================] - 5s 12ms/step - loss: 0.0070\n",
            "Epoch 52/100\n",
            "409/409 [==============================] - 5s 12ms/step - loss: 0.0072\n",
            "Epoch 53/100\n",
            "409/409 [==============================] - 5s 12ms/step - loss: 0.0063\n",
            "Epoch 54/100\n",
            "409/409 [==============================] - 5s 12ms/step - loss: 0.0079\n",
            "Epoch 55/100\n",
            "409/409 [==============================] - 5s 12ms/step - loss: 0.0071\n",
            "Epoch 56/100\n",
            "409/409 [==============================] - 5s 12ms/step - loss: 0.0059\n",
            "Epoch 57/100\n",
            "409/409 [==============================] - 5s 12ms/step - loss: 0.0065\n",
            "Epoch 58/100\n",
            "409/409 [==============================] - 5s 12ms/step - loss: 0.0062\n",
            "Epoch 59/100\n",
            "409/409 [==============================] - 5s 12ms/step - loss: 0.0060\n",
            "Epoch 60/100\n",
            "409/409 [==============================] - 5s 13ms/step - loss: 0.0068\n",
            "Epoch 61/100\n",
            "409/409 [==============================] - 5s 12ms/step - loss: 0.0060\n",
            "Epoch 62/100\n",
            "409/409 [==============================] - 5s 12ms/step - loss: 0.0065\n",
            "Epoch 63/100\n",
            "409/409 [==============================] - 5s 12ms/step - loss: 0.0058\n",
            "Epoch 64/100\n",
            "409/409 [==============================] - 5s 12ms/step - loss: 0.0059\n",
            "Epoch 65/100\n",
            "409/409 [==============================] - 5s 12ms/step - loss: 0.0049\n",
            "Epoch 66/100\n",
            "409/409 [==============================] - 5s 12ms/step - loss: 0.0056\n",
            "Epoch 67/100\n",
            "409/409 [==============================] - 5s 12ms/step - loss: 0.0054\n",
            "Epoch 68/100\n",
            "409/409 [==============================] - 5s 12ms/step - loss: 0.0066\n",
            "Epoch 69/100\n",
            "409/409 [==============================] - 5s 12ms/step - loss: 0.0056\n",
            "Epoch 70/100\n",
            "409/409 [==============================] - 5s 12ms/step - loss: 0.0055\n",
            "Epoch 71/100\n",
            "409/409 [==============================] - 5s 12ms/step - loss: 0.0050\n",
            "Epoch 72/100\n",
            "409/409 [==============================] - 5s 12ms/step - loss: 0.0061\n",
            "Epoch 73/100\n",
            "409/409 [==============================] - 5s 12ms/step - loss: 0.0053\n",
            "Epoch 74/100\n",
            "409/409 [==============================] - 5s 12ms/step - loss: 0.0051\n",
            "Epoch 75/100\n",
            "409/409 [==============================] - 5s 12ms/step - loss: 0.0050\n",
            "Epoch 76/100\n",
            "409/409 [==============================] - 5s 12ms/step - loss: 0.0050\n",
            "Epoch 77/100\n",
            "409/409 [==============================] - 5s 12ms/step - loss: 0.0048\n",
            "Epoch 78/100\n",
            "409/409 [==============================] - 5s 12ms/step - loss: 0.0057\n",
            "Epoch 79/100\n",
            "409/409 [==============================] - 5s 12ms/step - loss: 0.0051\n",
            "Epoch 80/100\n",
            "409/409 [==============================] - 5s 12ms/step - loss: 0.0049\n",
            "Epoch 81/100\n",
            "409/409 [==============================] - 5s 12ms/step - loss: 0.0050\n",
            "Epoch 82/100\n",
            "409/409 [==============================] - 5s 12ms/step - loss: 0.0055\n",
            "Epoch 83/100\n",
            "409/409 [==============================] - 5s 12ms/step - loss: 0.0050\n",
            "Epoch 84/100\n",
            "409/409 [==============================] - 5s 11ms/step - loss: 0.0048\n",
            "Epoch 85/100\n",
            "409/409 [==============================] - 5s 12ms/step - loss: 0.0050\n",
            "Epoch 86/100\n",
            "409/409 [==============================] - 5s 12ms/step - loss: 0.0048\n",
            "Epoch 87/100\n",
            "409/409 [==============================] - 5s 12ms/step - loss: 0.0057\n",
            "Epoch 88/100\n",
            "409/409 [==============================] - 5s 11ms/step - loss: 0.0050\n",
            "Epoch 89/100\n",
            "409/409 [==============================] - 5s 12ms/step - loss: 0.0048\n",
            "Epoch 90/100\n",
            "409/409 [==============================] - 5s 12ms/step - loss: 0.0042\n",
            "Epoch 91/100\n",
            "409/409 [==============================] - 5s 12ms/step - loss: 0.0047\n",
            "Epoch 92/100\n",
            "409/409 [==============================] - 5s 12ms/step - loss: 0.0053\n",
            "Epoch 93/100\n",
            "409/409 [==============================] - 5s 12ms/step - loss: 0.0056\n",
            "Epoch 94/100\n",
            "409/409 [==============================] - 5s 12ms/step - loss: 0.0052\n",
            "Epoch 95/100\n",
            "409/409 [==============================] - 5s 12ms/step - loss: 0.0082\n",
            "Epoch 96/100\n",
            "409/409 [==============================] - 5s 12ms/step - loss: 0.0057\n",
            "Epoch 97/100\n",
            "409/409 [==============================] - 5s 11ms/step - loss: 0.0046\n",
            "Epoch 98/100\n",
            "409/409 [==============================] - 5s 11ms/step - loss: 0.0043\n",
            "Epoch 99/100\n",
            "409/409 [==============================] - 5s 12ms/step - loss: 0.0044\n",
            "Epoch 100/100\n",
            "409/409 [==============================] - 5s 12ms/step - loss: 0.0045\n"
          ],
          "name": "stdout"
        },
        {
          "output_type": "execute_result",
          "data": {
            "text/plain": [
              "<keras.callbacks.History at 0x7f44d5cec198>"
            ]
          },
          "metadata": {
            "tags": []
          },
          "execution_count": 26
        }
      ]
    },
    {
      "metadata": {
        "id": "W-JTM7wtiMtW",
        "colab_type": "text"
      },
      "cell_type": "markdown",
      "source": [
        "# 4 Predicting and visualizing"
      ]
    },
    {
      "metadata": {
        "id": "CzATDzQLeSu8",
        "colab_type": "text"
      },
      "cell_type": "markdown",
      "source": [
        "## Predicting"
      ]
    },
    {
      "metadata": {
        "id": "zaspLr48fmP5",
        "colab_type": "code",
        "colab": {}
      },
      "cell_type": "code",
      "source": [
        "data_total = pd.concat((train_df, test_df), axis = 0)"
      ],
      "execution_count": 0,
      "outputs": []
    },
    {
      "metadata": {
        "id": "PGN8_cRSR_Gy",
        "colab_type": "code",
        "colab": {}
      },
      "cell_type": "code",
      "source": [
        "inputs = data_total[len(data_total) - len(test_df) - 60:].values"
      ],
      "execution_count": 0,
      "outputs": []
    },
    {
      "metadata": {
        "id": "DAgw0OFzZIMd",
        "colab_type": "code",
        "colab": {}
      },
      "cell_type": "code",
      "source": [
        "inputs = inputs.reshape(-1,1)"
      ],
      "execution_count": 0,
      "outputs": []
    },
    {
      "metadata": {
        "id": "9ZipLGZPbHPo",
        "colab_type": "code",
        "colab": {}
      },
      "cell_type": "code",
      "source": [
        "inputs = scaler.transform(inputs)"
      ],
      "execution_count": 0,
      "outputs": []
    },
    {
      "metadata": {
        "id": "gGsueBeFbhk4",
        "colab_type": "code",
        "colab": {}
      },
      "cell_type": "code",
      "source": [
        "X_test = []"
      ],
      "execution_count": 0,
      "outputs": []
    },
    {
      "metadata": {
        "id": "OPfC_72lbhhX",
        "colab_type": "code",
        "colab": {}
      },
      "cell_type": "code",
      "source": [
        "for i in range(60, 78):\n",
        "  X_test.append(inputs[i-60:i, 0])"
      ],
      "execution_count": 0,
      "outputs": []
    },
    {
      "metadata": {
        "id": "AuE61fM5bheS",
        "colab_type": "code",
        "colab": {}
      },
      "cell_type": "code",
      "source": [
        "X_test= np.array(X_test)"
      ],
      "execution_count": 0,
      "outputs": []
    },
    {
      "metadata": {
        "id": "8JFGIr9gcqwc",
        "colab_type": "code",
        "colab": {}
      },
      "cell_type": "code",
      "source": [
        "X_test = np.reshape(X_test, (X_test.shape[0], X_test.shape[1], 1))"
      ],
      "execution_count": 0,
      "outputs": []
    },
    {
      "metadata": {
        "id": "Ay5EGyYqcq0f",
        "colab_type": "code",
        "colab": {}
      },
      "cell_type": "code",
      "source": [
        "predicted = regressor.predict(X_test)"
      ],
      "execution_count": 0,
      "outputs": []
    },
    {
      "metadata": {
        "id": "iBiq5CEPdyKw",
        "colab_type": "code",
        "colab": {}
      },
      "cell_type": "code",
      "source": [
        "predicted = scaler.inverse_transform(predicted)"
      ],
      "execution_count": 0,
      "outputs": []
    },
    {
      "metadata": {
        "id": "GC1NBSPKeC6K",
        "colab_type": "code",
        "outputId": "325d9d7c-b926-4dfd-ebf4-1012072d6797",
        "colab": {
          "base_uri": "https://localhost:8080/",
          "height": 325
        }
      },
      "cell_type": "code",
      "source": [
        "print(predicted)"
      ],
      "execution_count": 37,
      "outputs": [
        {
          "output_type": "stream",
          "text": [
            "[[7921.709 ]\n",
            " [6849.9604]\n",
            " [6043.574 ]\n",
            " [5655.106 ]\n",
            " [5649.251 ]\n",
            " [5848.493 ]\n",
            " [5977.634 ]\n",
            " [5810.298 ]\n",
            " [5364.7715]\n",
            " [5178.5244]\n",
            " [6055.6816]\n",
            " [7790.0356]\n",
            " [7834.317 ]\n",
            " [6751.534 ]\n",
            " [5836.911 ]\n",
            " [5466.4414]\n",
            " [5556.549 ]\n",
            " [5857.8994]]\n"
          ],
          "name": "stdout"
        }
      ]
    },
    {
      "metadata": {
        "id": "ZG7tDE3KeOEP",
        "colab_type": "text"
      },
      "cell_type": "markdown",
      "source": [
        "## Visualizing"
      ]
    },
    {
      "metadata": {
        "id": "q-JE_mBCeFkf",
        "colab_type": "code",
        "outputId": "796f2e51-45cf-4c89-e386-c78fda2ba69a",
        "colab": {
          "base_uri": "https://localhost:8080/",
          "height": 376
        }
      },
      "cell_type": "code",
      "source": [
        "plt.plot(test, color = 'red', label = 'actual value')\n",
        "plt.plot(predicted, color = 'blue', label = 'predicted value')\n",
        "plt.title('actual values vs. predicted value')\n",
        "plt.xlabel('Month')\n",
        "plt.legend()\n",
        "plt.show()"
      ],
      "execution_count": 38,
      "outputs": [
        {
          "output_type": "display_data",
          "data": {
            "image/png": "[encoded data removed]",
            "text/plain": [
              "<Figure size 576x396 with 1 Axes>"
            ]
          },
          "metadata": {
            "tags": []
          }
        }
      ]
    },
    {
      "metadata": {
        "id": "3XQSLksshaio",
        "colab_type": "text"
      },
      "cell_type": "markdown",
      "source": [
        "# 5 Evaluating the RNN"
      ]
    },
    {
      "metadata": {
        "id": "Nq0JLpyyedTe",
        "colab_type": "code",
        "colab": {}
      },
      "cell_type": "code",
      "source": [
        "import math\n",
        "from sklearn.metrics import mean_squared_error"
      ],
      "execution_count": 0,
      "outputs": []
    },
    {
      "metadata": {
        "id": "GI9UUdfMedPy",
        "colab_type": "code",
        "outputId": "3d44a8af-dcc4-40de-f114-ccdd20d21f9f",
        "colab": {
          "base_uri": "https://localhost:8080/",
          "height": 34
        }
      },
      "cell_type": "code",
      "source": [
        "rmse = math.sqrt(mean_squared_error(test, predicted))\n",
        "rmse"
      ],
      "execution_count": 40,
      "outputs": [
        {
          "output_type": "execute_result",
          "data": {
            "text/plain": [
              "1027.3835041892764"
            ]
          },
          "metadata": {
            "tags": []
          },
          "execution_count": 40
        }
      ]
    },
    {
      "metadata": {
        "id": "oxtrJv7Wlw7K",
        "colab_type": "code",
        "colab": {}
      },
      "cell_type": "code",
      "source": [
        "from sklearn.model_selection import GridSearchCV"
      ],
      "execution_count": 0,
      "outputs": []
    },
    {
      "metadata": {
        "id": "3LSFelLnlxM4",
        "colab_type": "code",
        "colab": {}
      },
      "cell_type": "code",
      "source": [
        "parameters = {'batch_size': [12],\n",
        "             'epochs': [100],\n",
        "             'optimizer': ['adam', 'rmsprop']}"
      ],
      "execution_count": 0,
      "outputs": []
    },
    {
      "metadata": {
        "id": "xA2NADLbmDZu",
        "colab_type": "code",
        "colab": {}
      },
      "cell_type": "code",
      "source": [
        "grid_search = GridSearchCV(estimator = regressor,\n",
        "                          param_grid = parameters,\n",
        "                          scoring = 'neg_mean_squared_error',\n",
        "                          cv = 2)"
      ],
      "execution_count": 0,
      "outputs": []
    },
    {
      "metadata": {
        "id": "gp0Un3BUmDev",
        "colab_type": "code",
        "colab": {}
      },
      "cell_type": "code",
      "source": [
        "grid_search = grid_search.fit(X_train, Y_train)"
      ],
      "execution_count": 0,
      "outputs": []
    },
    {
      "metadata": {
        "id": "N6KMd3DQocPu",
        "colab_type": "code",
        "colab": {}
      },
      "cell_type": "code",
      "source": [
        "best_parameters = grid_search.best_params_"
      ],
      "execution_count": 0,
      "outputs": []
    },
    {
      "metadata": {
        "id": "Ju99SHrtoca1",
        "colab_type": "code",
        "colab": {}
      },
      "cell_type": "code",
      "source": [
        "best_accuracy = grid_search.best_score_"
      ],
      "execution_count": 0,
      "outputs": []
    },
    {
      "metadata": {
        "id": "Yn7XRg3Fv2DY",
        "colab_type": "code",
        "colab": {}
      },
      "cell_type": "code",
      "source": [
        "regressor = Keras"
      ],
      "execution_count": 0,
      "outputs": []
    }
  ]
}